{
 "cells": [
  {
   "cell_type": "markdown",
   "metadata": {},
   "source": [
    "# Code Violations Notebook - Code for Canada practice\n",
    "\n",
    "Write a brief program in the language of your choice to summarize the data. Your program should calculate:\n",
    "* The number of violations in each category\n",
    "* The earliest and latest violation date for each category\n"
   ]
  },
  {
   "cell_type": "code",
   "execution_count": 1,
   "metadata": {},
   "outputs": [],
   "source": [
    "# Import libraries\n",
    "import pandas as pd\n",
    "%matplotlib inline\n",
    "import matplotlib.pyplot as plt\n",
    "import seaborn as sns"
   ]
  },
  {
   "cell_type": "code",
   "execution_count": 2,
   "metadata": {},
   "outputs": [],
   "source": [
    "# Importing the dataset\n",
    "df = pd.read_csv('http://codefor.ca/wp-content/uploads/2018/06/C4C-dev-challenge-2018.csv')"
   ]
  },
  {
   "cell_type": "code",
   "execution_count": 3,
   "metadata": {},
   "outputs": [
    {
     "data": {
      "text/html": [
       "<div>\n",
       "<style scoped>\n",
       "    .dataframe tbody tr th:only-of-type {\n",
       "        vertical-align: middle;\n",
       "    }\n",
       "\n",
       "    .dataframe tbody tr th {\n",
       "        vertical-align: top;\n",
       "    }\n",
       "\n",
       "    .dataframe thead th {\n",
       "        text-align: right;\n",
       "    }\n",
       "</style>\n",
       "<table border=\"1\" class=\"dataframe\">\n",
       "  <thead>\n",
       "    <tr style=\"text-align: right;\">\n",
       "      <th></th>\n",
       "      <th>violation_id</th>\n",
       "      <th>inspection_id</th>\n",
       "      <th>violation_category</th>\n",
       "      <th>violation_date</th>\n",
       "      <th>violation_date_closed</th>\n",
       "      <th>violation_type</th>\n",
       "    </tr>\n",
       "  </thead>\n",
       "  <tbody>\n",
       "    <tr>\n",
       "      <th>0</th>\n",
       "      <td>204851</td>\n",
       "      <td>261019</td>\n",
       "      <td>Garbage and Refuse</td>\n",
       "      <td>2012-01-03 0:00</td>\n",
       "      <td>2012-02-02 0:00</td>\n",
       "      <td>Refuse Accumulation</td>\n",
       "    </tr>\n",
       "    <tr>\n",
       "      <th>1</th>\n",
       "      <td>204852</td>\n",
       "      <td>261019</td>\n",
       "      <td>Unsanitary Conditions</td>\n",
       "      <td>2012-01-03 0:00</td>\n",
       "      <td>2012-02-02 0:00</td>\n",
       "      <td>Unsanitary conditions, not specified</td>\n",
       "    </tr>\n",
       "    <tr>\n",
       "      <th>2</th>\n",
       "      <td>204853</td>\n",
       "      <td>261023</td>\n",
       "      <td>Garbage and Refuse</td>\n",
       "      <td>2012-01-03 0:00</td>\n",
       "      <td>2012-01-17 0:00</td>\n",
       "      <td>Refuse Accumulation</td>\n",
       "    </tr>\n",
       "    <tr>\n",
       "      <th>3</th>\n",
       "      <td>204854</td>\n",
       "      <td>261023</td>\n",
       "      <td>Garbage and Refuse</td>\n",
       "      <td>2012-01-03 0:00</td>\n",
       "      <td>2012-01-17 0:00</td>\n",
       "      <td>Refuse Accumulation</td>\n",
       "    </tr>\n",
       "    <tr>\n",
       "      <th>4</th>\n",
       "      <td>204858</td>\n",
       "      <td>261029</td>\n",
       "      <td>Garbage and Refuse</td>\n",
       "      <td>2012-01-03 0:00</td>\n",
       "      <td>2012-03-12 0:00</td>\n",
       "      <td>Refuse Accumulation</td>\n",
       "    </tr>\n",
       "  </tbody>\n",
       "</table>\n",
       "</div>"
      ],
      "text/plain": [
       "   violation_id  inspection_id     violation_category   violation_date  \\\n",
       "0        204851         261019     Garbage and Refuse  2012-01-03 0:00   \n",
       "1        204852         261019  Unsanitary Conditions  2012-01-03 0:00   \n",
       "2        204853         261023     Garbage and Refuse  2012-01-03 0:00   \n",
       "3        204854         261023     Garbage and Refuse  2012-01-03 0:00   \n",
       "4        204858         261029     Garbage and Refuse  2012-01-03 0:00   \n",
       "\n",
       "  violation_date_closed                        violation_type  \n",
       "0       2012-02-02 0:00                   Refuse Accumulation  \n",
       "1       2012-02-02 0:00  Unsanitary conditions, not specified  \n",
       "2       2012-01-17 0:00                   Refuse Accumulation  \n",
       "3       2012-01-17 0:00                   Refuse Accumulation  \n",
       "4       2012-03-12 0:00                   Refuse Accumulation  "
      ]
     },
     "execution_count": 3,
     "metadata": {},
     "output_type": "execute_result"
    }
   ],
   "source": [
    "df.head()"
   ]
  },
  {
   "cell_type": "code",
   "execution_count": 4,
   "metadata": {},
   "outputs": [
    {
     "name": "stdout",
     "output_type": "stream",
     "text": [
      "<class 'pandas.core.frame.DataFrame'>\n",
      "RangeIndex: 545 entries, 0 to 544\n",
      "Data columns (total 6 columns):\n",
      "violation_id             545 non-null int64\n",
      "inspection_id            545 non-null int64\n",
      "violation_category       545 non-null object\n",
      "violation_date           545 non-null object\n",
      "violation_date_closed    429 non-null object\n",
      "violation_type           545 non-null object\n",
      "dtypes: int64(2), object(4)\n",
      "memory usage: 25.6+ KB\n"
     ]
    }
   ],
   "source": [
    "df.info()"
   ]
  },
  {
   "cell_type": "code",
   "execution_count": 5,
   "metadata": {},
   "outputs": [
    {
     "data": {
      "text/html": [
       "<div>\n",
       "<style scoped>\n",
       "    .dataframe tbody tr th:only-of-type {\n",
       "        vertical-align: middle;\n",
       "    }\n",
       "\n",
       "    .dataframe tbody tr th {\n",
       "        vertical-align: top;\n",
       "    }\n",
       "\n",
       "    .dataframe thead th {\n",
       "        text-align: right;\n",
       "    }\n",
       "</style>\n",
       "<table border=\"1\" class=\"dataframe\">\n",
       "  <thead>\n",
       "    <tr style=\"text-align: right;\">\n",
       "      <th></th>\n",
       "      <th>violation_category</th>\n",
       "      <th>violation_date</th>\n",
       "      <th>violation_date_closed</th>\n",
       "      <th>violation_type</th>\n",
       "    </tr>\n",
       "  </thead>\n",
       "  <tbody>\n",
       "    <tr>\n",
       "      <th>count</th>\n",
       "      <td>545</td>\n",
       "      <td>545</td>\n",
       "      <td>429</td>\n",
       "      <td>545</td>\n",
       "    </tr>\n",
       "    <tr>\n",
       "      <th>unique</th>\n",
       "      <td>9</td>\n",
       "      <td>171</td>\n",
       "      <td>177</td>\n",
       "      <td>43</td>\n",
       "    </tr>\n",
       "    <tr>\n",
       "      <th>top</th>\n",
       "      <td>Animals and Pests</td>\n",
       "      <td>2012-04-03 0:00</td>\n",
       "      <td>2012-07-24 0:00</td>\n",
       "      <td>Refuse Accumulation</td>\n",
       "    </tr>\n",
       "    <tr>\n",
       "      <th>freq</th>\n",
       "      <td>180</td>\n",
       "      <td>14</td>\n",
       "      <td>13</td>\n",
       "      <td>106</td>\n",
       "    </tr>\n",
       "  </tbody>\n",
       "</table>\n",
       "</div>"
      ],
      "text/plain": [
       "       violation_category   violation_date violation_date_closed  \\\n",
       "count                 545              545                   429   \n",
       "unique                  9              171                   177   \n",
       "top     Animals and Pests  2012-04-03 0:00       2012-07-24 0:00   \n",
       "freq                  180               14                    13   \n",
       "\n",
       "             violation_type  \n",
       "count                   545  \n",
       "unique                   43  \n",
       "top     Refuse Accumulation  \n",
       "freq                    106  "
      ]
     },
     "execution_count": 5,
     "metadata": {},
     "output_type": "execute_result"
    }
   ],
   "source": [
    "df.describe(include=['object'])"
   ]
  },
  {
   "cell_type": "code",
   "execution_count": 6,
   "metadata": {},
   "outputs": [
    {
     "data": {
      "text/plain": [
       "Animals and Pests           180\n",
       "Garbage and Refuse          126\n",
       "Unsanitary Conditions        83\n",
       "Vegetation                   67\n",
       "Building Conditions          62\n",
       "Chemical Hazards             17\n",
       "Biohazards                    7\n",
       "Air Pollutants and Odors      2\n",
       "Retail Food                   1\n",
       "Name: violation_category, dtype: int64"
      ]
     },
     "execution_count": 6,
     "metadata": {},
     "output_type": "execute_result"
    }
   ],
   "source": [
    "# Counts in each category\n",
    "df.violation_category.value_counts()"
   ]
  },
  {
   "cell_type": "code",
   "execution_count": 7,
   "metadata": {},
   "outputs": [],
   "source": [
    "# Converting dates to datetime objects\n",
    "df.violation_date = pd.to_datetime(df.violation_date)\n",
    "df.violation_date_closed = pd.to_datetime(df.violation_date_closed)"
   ]
  },
  {
   "cell_type": "code",
   "execution_count": 8,
   "metadata": {},
   "outputs": [
    {
     "data": {
      "text/html": [
       "<div>\n",
       "<style scoped>\n",
       "    .dataframe tbody tr th:only-of-type {\n",
       "        vertical-align: middle;\n",
       "    }\n",
       "\n",
       "    .dataframe tbody tr th {\n",
       "        vertical-align: top;\n",
       "    }\n",
       "\n",
       "    .dataframe thead th {\n",
       "        text-align: right;\n",
       "    }\n",
       "</style>\n",
       "<table border=\"1\" class=\"dataframe\">\n",
       "  <thead>\n",
       "    <tr style=\"text-align: right;\">\n",
       "      <th></th>\n",
       "      <th>violation_id</th>\n",
       "      <th>inspection_id</th>\n",
       "      <th>violation_category</th>\n",
       "      <th>violation_date</th>\n",
       "      <th>violation_date_closed</th>\n",
       "      <th>violation_type</th>\n",
       "    </tr>\n",
       "  </thead>\n",
       "  <tbody>\n",
       "    <tr>\n",
       "      <th>0</th>\n",
       "      <td>204851</td>\n",
       "      <td>261019</td>\n",
       "      <td>Garbage and Refuse</td>\n",
       "      <td>2012-01-03</td>\n",
       "      <td>2012-02-02</td>\n",
       "      <td>Refuse Accumulation</td>\n",
       "    </tr>\n",
       "    <tr>\n",
       "      <th>1</th>\n",
       "      <td>204852</td>\n",
       "      <td>261019</td>\n",
       "      <td>Unsanitary Conditions</td>\n",
       "      <td>2012-01-03</td>\n",
       "      <td>2012-02-02</td>\n",
       "      <td>Unsanitary conditions, not specified</td>\n",
       "    </tr>\n",
       "    <tr>\n",
       "      <th>2</th>\n",
       "      <td>204853</td>\n",
       "      <td>261023</td>\n",
       "      <td>Garbage and Refuse</td>\n",
       "      <td>2012-01-03</td>\n",
       "      <td>2012-01-17</td>\n",
       "      <td>Refuse Accumulation</td>\n",
       "    </tr>\n",
       "    <tr>\n",
       "      <th>3</th>\n",
       "      <td>204854</td>\n",
       "      <td>261023</td>\n",
       "      <td>Garbage and Refuse</td>\n",
       "      <td>2012-01-03</td>\n",
       "      <td>2012-01-17</td>\n",
       "      <td>Refuse Accumulation</td>\n",
       "    </tr>\n",
       "    <tr>\n",
       "      <th>4</th>\n",
       "      <td>204858</td>\n",
       "      <td>261029</td>\n",
       "      <td>Garbage and Refuse</td>\n",
       "      <td>2012-01-03</td>\n",
       "      <td>2012-03-12</td>\n",
       "      <td>Refuse Accumulation</td>\n",
       "    </tr>\n",
       "  </tbody>\n",
       "</table>\n",
       "</div>"
      ],
      "text/plain": [
       "   violation_id  inspection_id     violation_category violation_date  \\\n",
       "0        204851         261019     Garbage and Refuse     2012-01-03   \n",
       "1        204852         261019  Unsanitary Conditions     2012-01-03   \n",
       "2        204853         261023     Garbage and Refuse     2012-01-03   \n",
       "3        204854         261023     Garbage and Refuse     2012-01-03   \n",
       "4        204858         261029     Garbage and Refuse     2012-01-03   \n",
       "\n",
       "  violation_date_closed                        violation_type  \n",
       "0            2012-02-02                   Refuse Accumulation  \n",
       "1            2012-02-02  Unsanitary conditions, not specified  \n",
       "2            2012-01-17                   Refuse Accumulation  \n",
       "3            2012-01-17                   Refuse Accumulation  \n",
       "4            2012-03-12                   Refuse Accumulation  "
      ]
     },
     "execution_count": 8,
     "metadata": {},
     "output_type": "execute_result"
    }
   ],
   "source": [
    "df.head()"
   ]
  },
  {
   "cell_type": "code",
   "execution_count": 9,
   "metadata": {},
   "outputs": [
    {
     "data": {
      "text/plain": [
       "violation_category\n",
       "Air Pollutants and Odors   2012-12-05\n",
       "Animals and Pests          2012-01-03\n",
       "Biohazards                 2012-04-13\n",
       "Building Conditions        2012-01-12\n",
       "Chemical Hazards           2012-02-08\n",
       "Garbage and Refuse         2012-01-03\n",
       "Retail Food                2012-12-20\n",
       "Unsanitary Conditions      2012-01-03\n",
       "Vegetation                 2012-02-01\n",
       "Name: violation_date, dtype: datetime64[ns]"
      ]
     },
     "execution_count": 9,
     "metadata": {},
     "output_type": "execute_result"
    }
   ],
   "source": [
    "# The earliest violation date for each category\n",
    "df.groupby('violation_category').min()['violation_date']"
   ]
  },
  {
   "cell_type": "code",
   "execution_count": 10,
   "metadata": {},
   "outputs": [
    {
     "data": {
      "text/plain": [
       "violation_category\n",
       "Air Pollutants and Odors   2012-12-19\n",
       "Animals and Pests          2012-12-28\n",
       "Biohazards                 2012-12-18\n",
       "Building Conditions        2012-12-26\n",
       "Chemical Hazards           2012-12-06\n",
       "Garbage and Refuse         2012-12-21\n",
       "Retail Food                2012-12-20\n",
       "Unsanitary Conditions      2012-12-19\n",
       "Vegetation                 2012-12-05\n",
       "Name: violation_date, dtype: datetime64[ns]"
      ]
     },
     "execution_count": 10,
     "metadata": {},
     "output_type": "execute_result"
    }
   ],
   "source": [
    "# The latest violation date for each category\n",
    "df.groupby('violation_category').max()['violation_date']"
   ]
  },
  {
   "cell_type": "markdown",
   "metadata": {},
   "source": [
    "### Visualizations\n"
   ]
  },
  {
   "cell_type": "code",
   "execution_count": 11,
   "metadata": {},
   "outputs": [
    {
     "data": {
      "text/plain": [
       "<matplotlib.axes._subplots.AxesSubplot at 0x1a18161940>"
      ]
     },
     "execution_count": 11,
     "metadata": {},
     "output_type": "execute_result"
    },
    {
     "data": {
      "image/png": "[encoded data removed]",
      "text/plain": [
       "<Figure size 432x288 with 1 Axes>"
      ]
     },
     "metadata": {
      "needs_background": "light"
     },
     "output_type": "display_data"
    }
   ],
   "source": [
    "graph = df.violation_category.value_counts().sort_values(ascending=False)\n",
    "graph.plot(kind='bar')"
   ]
  },
  {
   "cell_type": "code",
   "execution_count": 12,
   "metadata": {},
   "outputs": [
    {
     "data": {
      "image/png": "[encoded data removed]",
      "text/plain": [
       "<Figure size 648x72 with 1 Axes>"
      ]
     },
     "metadata": {
      "needs_background": "light"
     },
     "output_type": "display_data"
    }
   ],
   "source": [
    "sns.palplot(sns.color_palette(\"Set1\",9))"
   ]
  },
  {
   "cell_type": "code",
   "execution_count": 13,
   "metadata": {},
   "outputs": [
    {
     "data": {
      "image/png": "[encoded data removed]",
      "text/plain": [
       "<Figure size 720x504 with 1 Axes>"
      ]
     },
     "metadata": {
      "needs_background": "light"
     },
     "output_type": "display_data"
    }
   ],
   "source": [
    "fig, ax = plt.subplots(figsize=(10,7))\n",
    "graph2 = df[['violation_category','violation_date']]\n",
    "#graph2.groupby('violation_date').count().unstack()['violation_category'].plot(ax=ax);\n",
    "#sns.lineplot(data=graph2, hue='violation_category')\n",
    "sns.swarmplot(y='violation_date', x = 'violation_category', hue='violation_category', palette=sns.color_palette(\"Set1\", 9), \n",
    "              data=graph2, ax=ax)\n",
    "ax.tick_params(axis='y', grid_color='black', grid_alpha=0.6)\n",
    "plt.xticks(rotation= 90);"
   ]
  },
  {
   "cell_type": "code",
   "execution_count": 14,
   "metadata": {},
   "outputs": [
    {
     "data": {
      "text/plain": [
       "[   validation_date  counts\n",
       " 0          2012-01      10\n",
       " 1          2012-02      11\n",
       " 2          2012-03       6\n",
       " 3          2012-04      11\n",
       " 4          2012-05       4\n",
       " 5          2012-06      13\n",
       " 6          2012-07      24\n",
       " 7          2012-08      13\n",
       " 8          2012-09      11\n",
       " 9          2012-10       5\n",
       " 10         2012-11      11\n",
       " 11         2012-12       7,    validation_date  counts\n",
       " 0          2012-01       5\n",
       " 1          2012-02       5\n",
       " 2          2012-03       3\n",
       " 3          2012-04       3\n",
       " 4          2012-05       3\n",
       " 5          2012-06      12\n",
       " 6          2012-07       2\n",
       " 7          2012-08       2\n",
       " 8          2012-09      26\n",
       " 9          2012-10       6\n",
       " 10         2012-11      10\n",
       " 11         2012-12       6,    validation_date  counts\n",
       " 0          2012-01       4\n",
       " 1          2012-02      14\n",
       " 2          2012-03       9\n",
       " 3          2012-04      14\n",
       " 4          2012-05       9\n",
       " 5          2012-06      15\n",
       " 6          2012-07      20\n",
       " 7          2012-08      22\n",
       " 8          2012-09      22\n",
       " 9          2012-10      18\n",
       " 10         2012-11      13\n",
       " 11         2012-12      20,    validation_date  counts\n",
       " 0          2012-01       1\n",
       " 1          2012-02       1\n",
       " 2          2012-03       2\n",
       " 3          2012-04       5\n",
       " 4          2012-05       2\n",
       " 5          2012-06       2\n",
       " 6          2012-07       8\n",
       " 7          2012-08       2\n",
       " 8          2012-09       6\n",
       " 9          2012-10      10\n",
       " 10         2012-11      14\n",
       " 11         2012-12       9,    validation_date  counts\n",
       " 0          2012-02       3\n",
       " 1          2012-03       8\n",
       " 2          2012-04       6\n",
       " 3          2012-05       6\n",
       " 4          2012-06      12\n",
       " 5          2012-07      16\n",
       " 6          2012-08       2\n",
       " 7          2012-09       7\n",
       " 8          2012-10       3\n",
       " 9          2012-11       2\n",
       " 10         2012-12       2,   validation_date  counts\n",
       " 0         2012-02       4\n",
       " 1         2012-03       4\n",
       " 2         2012-04       1\n",
       " 3         2012-06       5\n",
       " 4         2012-07       1\n",
       " 5         2012-11       1\n",
       " 6         2012-12       1,   validation_date  counts\n",
       " 0         2012-04       1\n",
       " 1         2012-09       1\n",
       " 2         2012-12       5,   validation_date  counts\n",
       " 0         2012-12       2,   validation_date  counts\n",
       " 0         2012-12       1]"
      ]
     },
     "execution_count": 14,
     "metadata": {},
     "output_type": "execute_result"
    }
   ],
   "source": [
    "categories = pd.unique(graph2.violation_category.values)\n",
    "df_list = []\n",
    "for category in categories:\n",
    "    df_temp = graph2.query('violation_category == @category').groupby(\n",
    "        graph2.violation_date.dt.to_period('M').rename('date')).count()['violation_date']\n",
    "    df_temp = pd.DataFrame(df_temp.T) #.reset_index(inplace=True)\n",
    "    df_temp.reset_index(inplace=True)\n",
    "    df_temp.columns = ['validation_date', 'counts']\n",
    "    \n",
    "    df_list.append(df_temp)\n",
    "\n",
    "df_list"
   ]
  },
  {
   "cell_type": "code",
   "execution_count": 15,
   "metadata": {},
   "outputs": [
    {
     "data": {
      "text/html": [
       "<div>\n",
       "<style scoped>\n",
       "    .dataframe tbody tr th:only-of-type {\n",
       "        vertical-align: middle;\n",
       "    }\n",
       "\n",
       "    .dataframe tbody tr th {\n",
       "        vertical-align: top;\n",
       "    }\n",
       "\n",
       "    .dataframe thead th {\n",
       "        text-align: right;\n",
       "    }\n",
       "</style>\n",
       "<table border=\"1\" class=\"dataframe\">\n",
       "  <thead>\n",
       "    <tr style=\"text-align: right;\">\n",
       "      <th></th>\n",
       "      <th>violation_date</th>\n",
       "      <th>counts</th>\n",
       "    </tr>\n",
       "  </thead>\n",
       "  <tbody>\n",
       "    <tr>\n",
       "      <th>0</th>\n",
       "      <td>2012-01</td>\n",
       "      <td>10</td>\n",
       "    </tr>\n",
       "    <tr>\n",
       "      <th>1</th>\n",
       "      <td>2012-02</td>\n",
       "      <td>11</td>\n",
       "    </tr>\n",
       "    <tr>\n",
       "      <th>2</th>\n",
       "      <td>2012-03</td>\n",
       "      <td>6</td>\n",
       "    </tr>\n",
       "    <tr>\n",
       "      <th>3</th>\n",
       "      <td>2012-04</td>\n",
       "      <td>11</td>\n",
       "    </tr>\n",
       "    <tr>\n",
       "      <th>4</th>\n",
       "      <td>2012-05</td>\n",
       "      <td>4</td>\n",
       "    </tr>\n",
       "    <tr>\n",
       "      <th>5</th>\n",
       "      <td>2012-06</td>\n",
       "      <td>13</td>\n",
       "    </tr>\n",
       "    <tr>\n",
       "      <th>6</th>\n",
       "      <td>2012-07</td>\n",
       "      <td>24</td>\n",
       "    </tr>\n",
       "    <tr>\n",
       "      <th>7</th>\n",
       "      <td>2012-08</td>\n",
       "      <td>13</td>\n",
       "    </tr>\n",
       "    <tr>\n",
       "      <th>8</th>\n",
       "      <td>2012-09</td>\n",
       "      <td>11</td>\n",
       "    </tr>\n",
       "    <tr>\n",
       "      <th>9</th>\n",
       "      <td>2012-10</td>\n",
       "      <td>5</td>\n",
       "    </tr>\n",
       "    <tr>\n",
       "      <th>10</th>\n",
       "      <td>2012-11</td>\n",
       "      <td>11</td>\n",
       "    </tr>\n",
       "    <tr>\n",
       "      <th>11</th>\n",
       "      <td>2012-12</td>\n",
       "      <td>7</td>\n",
       "    </tr>\n",
       "  </tbody>\n",
       "</table>\n",
       "</div>"
      ],
      "text/plain": [
       "   violation_date  counts\n",
       "0         2012-01      10\n",
       "1         2012-02      11\n",
       "2         2012-03       6\n",
       "3         2012-04      11\n",
       "4         2012-05       4\n",
       "5         2012-06      13\n",
       "6         2012-07      24\n",
       "7         2012-08      13\n",
       "8         2012-09      11\n",
       "9         2012-10       5\n",
       "10        2012-11      11\n",
       "11        2012-12       7"
      ]
     },
     "execution_count": 15,
     "metadata": {},
     "output_type": "execute_result"
    }
   ],
   "source": [
    "df_test = graph2.query('violation_category == \"Garbage and Refuse\"').groupby(\n",
    "    graph2.violation_date.dt.to_period('M').rename('date')).count()['violation_date']\n",
    "#df_test.reset_index(inplace=True)\n",
    "df_test = pd.DataFrame(df_test.T) \n",
    "df_test.reset_index(inplace=True)\n",
    "df_test.columns = ['violation_date','counts']\n",
    "df_test\n",
    "#df_test.index.tolist()"
   ]
  },
  {
   "cell_type": "code",
   "execution_count": 16,
   "metadata": {},
   "outputs": [
    {
     "data": {
      "text/html": [
       "<div>\n",
       "<style scoped>\n",
       "    .dataframe tbody tr th:only-of-type {\n",
       "        vertical-align: middle;\n",
       "    }\n",
       "\n",
       "    .dataframe tbody tr th {\n",
       "        vertical-align: top;\n",
       "    }\n",
       "\n",
       "    .dataframe thead th {\n",
       "        text-align: right;\n",
       "    }\n",
       "</style>\n",
       "<table border=\"1\" class=\"dataframe\">\n",
       "  <thead>\n",
       "    <tr style=\"text-align: right;\">\n",
       "      <th></th>\n",
       "      <th>violation_category</th>\n",
       "      <th>min</th>\n",
       "      <th>max</th>\n",
       "    </tr>\n",
       "  </thead>\n",
       "  <tbody>\n",
       "    <tr>\n",
       "      <th>0</th>\n",
       "      <td>Air Pollutants and Odors</td>\n",
       "      <td>2012-12-05</td>\n",
       "      <td>2012-12-19</td>\n",
       "    </tr>\n",
       "    <tr>\n",
       "      <th>1</th>\n",
       "      <td>Animals and Pests</td>\n",
       "      <td>2012-01-03</td>\n",
       "      <td>2012-12-28</td>\n",
       "    </tr>\n",
       "    <tr>\n",
       "      <th>2</th>\n",
       "      <td>Biohazards</td>\n",
       "      <td>2012-04-13</td>\n",
       "      <td>2012-12-18</td>\n",
       "    </tr>\n",
       "    <tr>\n",
       "      <th>3</th>\n",
       "      <td>Building Conditions</td>\n",
       "      <td>2012-01-12</td>\n",
       "      <td>2012-12-26</td>\n",
       "    </tr>\n",
       "    <tr>\n",
       "      <th>4</th>\n",
       "      <td>Chemical Hazards</td>\n",
       "      <td>2012-02-08</td>\n",
       "      <td>2012-12-06</td>\n",
       "    </tr>\n",
       "    <tr>\n",
       "      <th>5</th>\n",
       "      <td>Garbage and Refuse</td>\n",
       "      <td>2012-01-03</td>\n",
       "      <td>2012-12-21</td>\n",
       "    </tr>\n",
       "    <tr>\n",
       "      <th>6</th>\n",
       "      <td>Retail Food</td>\n",
       "      <td>2012-12-20</td>\n",
       "      <td>2012-12-20</td>\n",
       "    </tr>\n",
       "    <tr>\n",
       "      <th>7</th>\n",
       "      <td>Unsanitary Conditions</td>\n",
       "      <td>2012-01-03</td>\n",
       "      <td>2012-12-19</td>\n",
       "    </tr>\n",
       "    <tr>\n",
       "      <th>8</th>\n",
       "      <td>Vegetation</td>\n",
       "      <td>2012-02-01</td>\n",
       "      <td>2012-12-05</td>\n",
       "    </tr>\n",
       "  </tbody>\n",
       "</table>\n",
       "</div>"
      ],
      "text/plain": [
       "         violation_category        min        max\n",
       "0  Air Pollutants and Odors 2012-12-05 2012-12-19\n",
       "1         Animals and Pests 2012-01-03 2012-12-28\n",
       "2                Biohazards 2012-04-13 2012-12-18\n",
       "3       Building Conditions 2012-01-12 2012-12-26\n",
       "4          Chemical Hazards 2012-02-08 2012-12-06\n",
       "5        Garbage and Refuse 2012-01-03 2012-12-21\n",
       "6               Retail Food 2012-12-20 2012-12-20\n",
       "7     Unsanitary Conditions 2012-01-03 2012-12-19\n",
       "8                Vegetation 2012-02-01 2012-12-05"
      ]
     },
     "execution_count": 16,
     "metadata": {},
     "output_type": "execute_result"
    }
   ],
   "source": [
    "df_dates = df.groupby('violation_category').aggregate(['min','max'])['violation_date'].reset_index()\n",
    "df_dates"
   ]
  },
  {
   "cell_type": "code",
   "execution_count": null,
   "metadata": {},
   "outputs": [],
   "source": []
  }
 ],
 "metadata": {
  "kernelspec": {
   "display_name": "Python [default]",
   "language": "python",
   "name": "python3"
  },
  "language_info": {
   "codemirror_mode": {
    "name": "ipython",
    "version": 3
   },
   "file_extension": ".py",
   "mimetype": "text/x-python",
   "name": "python",
   "nbconvert_exporter": "python",
   "pygments_lexer": "ipython3",
   "version": "3.6.8"
  }
 },
 "nbformat": 4,
 "nbformat_minor": 2
}
